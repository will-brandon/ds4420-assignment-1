{
 "cells": [
  {
   "cell_type": "markdown",
   "id": "98645648-2d3e-4e74-b6ca-2f71903f0ef1",
   "metadata": {},
   "source": [
    "## Imports"
   ]
  },
  {
   "cell_type": "code",
   "execution_count": 1,
   "id": "d983657a-6616-4671-80b4-e8dd95c3050e",
   "metadata": {},
   "outputs": [],
   "source": [
    "from typing import Tuple, List\n",
    "\n",
    "import re\n",
    "import pandas as pd\n",
    "from sklearn.model_selection import train_test_split\n",
    "from sklearn.compose import ColumnTransformer\n",
    "from sklearn.pipeline import Pipeline\n",
    "from sklearn.preprocessing import StandardScaler\n",
    "from sklearn.feature_extraction.text import TfidfVectorizer\n",
    "from sklearn.linear_model import LogisticRegression\n",
    "from sklearn.ensemble import RandomForestClassifier\n",
    "from sklearn.metrics import classification_report"
   ]
  },
  {
   "cell_type": "markdown",
   "id": "644d15c5-21b6-4bb5-beeb-053ab71f65d7",
   "metadata": {},
   "source": [
    "## Reading Datasets"
   ]
  },
  {
   "cell_type": "code",
   "execution_count": 2,
   "id": "c9eb5734-06a1-44c4-b71c-ccb525e95205",
   "metadata": {},
   "outputs": [],
   "source": [
    "def read_csv(filename: str) -> pd.DataFrame:\n",
    "    return pd.read_csv(filename, sep=',', encoding='latin-1')\n",
    "\n",
    "train_and_val_data = read_csv('data/ds4420_kaggle_train_data.csv')\n",
    "test_data = read_csv('data/ds4420_kaggle_test_data.csv')\n",
    "\n",
    "def split_label(data: pd.DataFrame) -> Tuple[pd.DataFrame, pd.DataFrame]:\n",
    "    return data.drop('Label', axis=1), data['Label']\n",
    "\n",
    "X_train_and_val, y_train_and_val = split_label(train_and_val_data)\n",
    "X_test = test_data"
   ]
  },
  {
   "cell_type": "markdown",
   "id": "f3f7f9b2-2a6c-4935-8401-edea4ee0a27a",
   "metadata": {},
   "source": [
    "## Splitting Into Training and Validation Sets"
   ]
  },
  {
   "cell_type": "code",
   "execution_count": 3,
   "id": "83fac3d1-6914-4b1c-b916-5fbad0767da0",
   "metadata": {},
   "outputs": [
    {
     "data": {
      "text/html": [
       "<div>\n",
       "<style scoped>\n",
       "    .dataframe tbody tr th:only-of-type {\n",
       "        vertical-align: middle;\n",
       "    }\n",
       "\n",
       "    .dataframe tbody tr th {\n",
       "        vertical-align: top;\n",
       "    }\n",
       "\n",
       "    .dataframe thead th {\n",
       "        text-align: right;\n",
       "    }\n",
       "</style>\n",
       "<table border=\"1\" class=\"dataframe\">\n",
       "  <thead>\n",
       "    <tr style=\"text-align: right;\">\n",
       "      <th></th>\n",
       "      <th>ID</th>\n",
       "      <th>Text</th>\n",
       "      <th>Selected_Text</th>\n",
       "      <th>Selected_Text_Sentiment</th>\n",
       "      <th>Time_of_Post</th>\n",
       "      <th>User_Age</th>\n",
       "      <th>Population</th>\n",
       "      <th>Land_Size</th>\n",
       "      <th>Population_Density</th>\n",
       "    </tr>\n",
       "  </thead>\n",
       "  <tbody>\n",
       "    <tr>\n",
       "      <th>13294</th>\n",
       "      <td>13294</td>\n",
       "      <td>In a period of exams days are for study and ni...</td>\n",
       "      <td>no funny time..</td>\n",
       "      <td>negative</td>\n",
       "      <td>7</td>\n",
       "      <td>10</td>\n",
       "      <td>102334404</td>\n",
       "      <td>995450</td>\n",
       "      <td>103</td>\n",
       "    </tr>\n",
       "    <tr>\n",
       "      <th>17124</th>\n",
       "      <td>17124</td>\n",
       "      <td>So bored.... couldn`t go to a-kon...</td>\n",
       "      <td>bored..</td>\n",
       "      <td>negative</td>\n",
       "      <td>22</td>\n",
       "      <td>37</td>\n",
       "      <td>33469203</td>\n",
       "      <td>425400</td>\n",
       "      <td>79</td>\n",
       "    </tr>\n",
       "    <tr>\n",
       "      <th>12560</th>\n",
       "      <td>12560</td>\n",
       "      <td>its nice to have no assignments for the night</td>\n",
       "      <td>nice</td>\n",
       "      <td>positive</td>\n",
       "      <td>17</td>\n",
       "      <td>69</td>\n",
       "      <td>26378274</td>\n",
       "      <td>318000</td>\n",
       "      <td>83</td>\n",
       "    </tr>\n",
       "  </tbody>\n",
       "</table>\n",
       "</div>"
      ],
      "text/plain": [
       "          ID                                               Text  \\\n",
       "13294  13294  In a period of exams days are for study and ni...   \n",
       "17124  17124               So bored.... couldn`t go to a-kon...   \n",
       "12560  12560      its nice to have no assignments for the night   \n",
       "\n",
       "         Selected_Text Selected_Text_Sentiment  Time_of_Post  User_Age  \\\n",
       "13294  no funny time..                negative             7        10   \n",
       "17124          bored..                negative            22        37   \n",
       "12560             nice                positive            17        69   \n",
       "\n",
       "       Population  Land_Size  Population_Density  \n",
       "13294   102334404     995450                 103  \n",
       "17124    33469203     425400                  79  \n",
       "12560    26378274     318000                  83  "
      ]
     },
     "execution_count": 3,
     "metadata": {},
     "output_type": "execute_result"
    }
   ],
   "source": [
    "X_train, X_val, y_train, y_val = train_test_split(X_train_and_val, y_train_and_val, test_size=0.2, random_state=42)\n",
    "\n",
    "X_train.head(3)"
   ]
  },
  {
   "cell_type": "markdown",
   "id": "270d159c-fc9e-461f-b9ba-fb5af641cf07",
   "metadata": {},
   "source": [
    "## TF-IDF Vectorizer & Logistic Regression"
   ]
  },
  {
   "cell_type": "code",
   "execution_count": 4,
   "id": "f71fec2b-ec70-4657-b292-ab6927e4917d",
   "metadata": {},
   "outputs": [
    {
     "name": "stdout",
     "output_type": "stream",
     "text": [
      "              precision    recall  f1-score   support\n",
      "\n",
      "           0       0.84      0.95      0.89      3261\n",
      "           1       0.85      0.60      0.70      1476\n",
      "\n",
      "    accuracy                           0.84      4737\n",
      "   macro avg       0.84      0.77      0.80      4737\n",
      "weighted avg       0.84      0.84      0.83      4737\n",
      "\n"
     ]
    }
   ],
   "source": [
    "# vectorizer = TfidfVectorizer()\n",
    "# X_train_tfidf_vec = vectorizer.fit_transform(X_train['Text'])\n",
    "# X_val_tfidf_vec = vectorizer.transform(X_val['Text'])\n",
    "\n",
    "# model = LogisticRegression(random_state=1).fit(X_train_tfidf_vec, y_train)\n",
    "# y_train_pred = model.predict(X_train_tfidf_vec)\n",
    "# y_val_pred = model.predict(X_val_tfidf_vec)\n",
    "\n",
    "# print(classification_report(y_val, y_val_pred))\n",
    "\n",
    "# test_data_exportable = test_data.copy()\n",
    "# X_test_vec = vectorizer.transform(X_test['Text'])\n",
    "# y_test_pred = model.predict(X_test_vec)\n",
    "# test_data_exportable['Label'] = y_test_pred\n",
    "# test_data_exportable = test_data_exportable[['ID', 'Label']]\n",
    "# test_data_exportable.to_csv('model1.csv', index=False)"
   ]
  },
  {
   "cell_type": "code",
   "execution_count": 5,
   "id": "8b843593-7dd4-4595-95dd-4ef571ab954c",
   "metadata": {},
   "outputs": [
    {
     "name": "stdout",
     "output_type": "stream",
     "text": [
      "              precision    recall  f1-score   support\n",
      "\n",
      "           0       0.84      0.95      0.89      3261\n",
      "           1       0.84      0.60      0.70      1476\n",
      "\n",
      "    accuracy                           0.84      4737\n",
      "   macro avg       0.84      0.77      0.79      4737\n",
      "weighted avg       0.84      0.84      0.83      4737\n",
      "\n"
     ]
    }
   ],
   "source": [
    "# def clean_text(text: str) -> List[str]:\n",
    "#     text = text.lower()\n",
    "#     text = re.sub(r'[^\\w\\s]', '', text)\n",
    "#     return text\n",
    "\n",
    "# X_train_features = X_train.copy()\n",
    "# X_val_features = X_val.copy()\n",
    "\n",
    "# X_train_features['Text'] = X_train_features['Text'].apply(clean_text)\n",
    "# X_val_features['Text'] = X_val_features['Text'].apply(clean_text)\n",
    "\n",
    "# vectorizer = TfidfVectorizer(stop_words='english')\n",
    "# X_train_tfidf_vec = vectorizer.fit_transform(X_train_features['Text'])\n",
    "# X_val_tfidf_vec = vectorizer.transform(X_val_features['Text'])\n",
    "\n",
    "# model = LogisticRegression(random_state=1).fit(X_train_tfidf_vec, y_train)\n",
    "# y_train_pred = model.predict(X_train_tfidf_vec)\n",
    "# y_val_pred = model.predict(X_val_tfidf_vec)\n",
    "\n",
    "# print(classification_report(y_val, y_val_pred))\n",
    "\n",
    "# test_data_exportable = test_data.copy()\n",
    "# X_test_vec = vectorizer.transform(X_test['Text'])\n",
    "# y_test_pred = model.predict(X_test_vec)\n",
    "# test_data_exportable['Label'] = y_test_pred\n",
    "# test_data_exportable = test_data_exportable[['ID', 'Label']]\n",
    "# test_data_exportable.to_csv('model2.csv', index=False)"
   ]
  },
  {
   "cell_type": "code",
   "execution_count": 6,
   "id": "d25a3ca0-6baf-4758-b4b2-eca0272aae65",
   "metadata": {},
   "outputs": [
    {
     "name": "stdout",
     "output_type": "stream",
     "text": [
      "              precision    recall  f1-score   support\n",
      "\n",
      "           0       0.84      0.94      0.89      3261\n",
      "           1       0.83      0.61      0.70      1476\n",
      "\n",
      "    accuracy                           0.84      4737\n",
      "   macro avg       0.83      0.77      0.79      4737\n",
      "weighted avg       0.84      0.84      0.83      4737\n",
      "\n"
     ]
    }
   ],
   "source": [
    "# vectorizer = TfidfVectorizer()\n",
    "# X_train_tfidf_vec = vectorizer.fit_transform(X_train['Text'])\n",
    "# X_val_tfidf_vec = vectorizer.transform(X_val['Text'])\n",
    "\n",
    "# model = RandomForestClassifier(n_estimators=100, random_state=1).fit(X_train_tfidf_vec, y_train)\n",
    "# y_train_pred = model.predict(X_train_tfidf_vec)\n",
    "# y_val_pred = model.predict(X_val_tfidf_vec)\n",
    "\n",
    "# print(classification_report(y_val, y_val_pred))\n",
    "\n",
    "# test_data_exportable = test_data.copy()\n",
    "# X_test_vec = vectorizer.transform(X_test['Text'])\n",
    "# y_test_pred = model.predict(X_test_vec)\n",
    "# test_data_exportable['Label'] = y_test_pred\n",
    "# test_data_exportable = test_data_exportable[['ID', 'Label']]\n",
    "# test_data_exportable.to_csv('model3.csv', index=False)"
   ]
  },
  {
   "cell_type": "code",
   "execution_count": 21,
   "id": "a203be85-c41f-4b25-ab5e-0db3d651ce80",
   "metadata": {},
   "outputs": [
    {
     "ename": "TypeError",
     "evalue": "RandomForestClassifier.__init__() got an unexpected keyword argument 'max_iter'",
     "output_type": "error",
     "traceback": [
      "\u001b[0;31m---------------------------------------------------------------------------\u001b[0m",
      "\u001b[0;31mTypeError\u001b[0m                                 Traceback (most recent call last)",
      "Cell \u001b[0;32mIn[21], line 11\u001b[0m\n\u001b[1;32m      1\u001b[0m preprocessor \u001b[38;5;241m=\u001b[39m ColumnTransformer(\n\u001b[1;32m      2\u001b[0m     transformers\u001b[38;5;241m=\u001b[39m[\n\u001b[1;32m      3\u001b[0m         (\u001b[38;5;124m'\u001b[39m\u001b[38;5;124mtext\u001b[39m\u001b[38;5;124m'\u001b[39m, TfidfVectorizer(stop_words\u001b[38;5;241m=\u001b[39m\u001b[38;5;124m'\u001b[39m\u001b[38;5;124menglish\u001b[39m\u001b[38;5;124m'\u001b[39m), \u001b[38;5;124m'\u001b[39m\u001b[38;5;124mText\u001b[39m\u001b[38;5;124m'\u001b[39m),\n\u001b[1;32m      4\u001b[0m         (\u001b[38;5;124m'\u001b[39m\u001b[38;5;124mnumeric\u001b[39m\u001b[38;5;124m'\u001b[39m, StandardScaler(), [\u001b[38;5;124m'\u001b[39m\u001b[38;5;124mUser_Age\u001b[39m\u001b[38;5;124m'\u001b[39m, \u001b[38;5;124m'\u001b[39m\u001b[38;5;124mTime_of_Post\u001b[39m\u001b[38;5;124m'\u001b[39m])\n\u001b[1;32m      5\u001b[0m     ]\n\u001b[1;32m      6\u001b[0m )\n\u001b[1;32m      8\u001b[0m pipeline \u001b[38;5;241m=\u001b[39m Pipeline(\n\u001b[1;32m      9\u001b[0m     steps\u001b[38;5;241m=\u001b[39m[\n\u001b[1;32m     10\u001b[0m         (\u001b[38;5;124m'\u001b[39m\u001b[38;5;124mpreprocessor\u001b[39m\u001b[38;5;124m'\u001b[39m, preprocessor),\n\u001b[0;32m---> 11\u001b[0m         (\u001b[38;5;124m'\u001b[39m\u001b[38;5;124mregressor\u001b[39m\u001b[38;5;124m'\u001b[39m, \u001b[43mRandomForestClassifier\u001b[49m\u001b[43m(\u001b[49m\u001b[43mmax_iter\u001b[49m\u001b[38;5;241;43m=\u001b[39;49m\u001b[38;5;241;43m3000\u001b[39;49m\u001b[43m,\u001b[49m\u001b[43m \u001b[49m\u001b[43mrandom_state\u001b[49m\u001b[38;5;241;43m=\u001b[39;49m\u001b[38;5;241;43m1\u001b[39;49m\u001b[43m)\u001b[49m)\n\u001b[1;32m     12\u001b[0m     ]\n\u001b[1;32m     13\u001b[0m )\n\u001b[1;32m     15\u001b[0m pipeline\u001b[38;5;241m.\u001b[39mfit(X_train, y_train)\n\u001b[1;32m     17\u001b[0m y_train_pred \u001b[38;5;241m=\u001b[39m pipeline\u001b[38;5;241m.\u001b[39mpredict(X_train)\n",
      "\u001b[0;31mTypeError\u001b[0m: RandomForestClassifier.__init__() got an unexpected keyword argument 'max_iter'"
     ]
    }
   ],
   "source": [
    "preprocessor = ColumnTransformer(\n",
    "    transformers=[\n",
    "        ('text', TfidfVectorizer(stop_words='english'), 'Text'),\n",
    "        ('numeric', StandardScaler(), ['User_Age', 'Time_of_Post'])\n",
    "    ]\n",
    ")\n",
    "\n",
    "pipeline = Pipeline(\n",
    "    steps=[\n",
    "        ('preprocessor', preprocessor),\n",
    "        #('regressor', LogisticRegression(max_iter=3000, random_state=1)),\n",
    "        ('regressor', RandomForestClassifier(max_iter=3000, random_state=1))\n",
    "    ]\n",
    ")\n",
    "\n",
    "pipeline.fit(X_train, y_train)\n",
    "\n",
    "y_train_pred = pipeline.predict(X_train)\n",
    "y_val_pred = pipeline.predict(X_val)\n",
    "\n",
    "print(classification_report(y_val, y_val_pred))\n",
    "\n",
    "test_data_exportable = test_data.copy()\n",
    "X_test_vec = vectorizer.transform(X_test['Text'])\n",
    "y_test_pred = model.predict(X_test_vec)\n",
    "test_data_exportable['Label'] = y_test_pred\n",
    "test_data_exportable = test_data_exportable[['ID', 'Label']]\n",
    "test_data_exportable.to_csv('model4.csv', index=False)"
   ]
  },
  {
   "cell_type": "code",
   "execution_count": null,
   "id": "bb3ac346-f71f-42a5-a04f-baf5558c84ce",
   "metadata": {},
   "outputs": [],
   "source": []
  }
 ],
 "metadata": {
  "kernelspec": {
   "display_name": "Python 3 (ipykernel)",
   "language": "python",
   "name": "python3"
  },
  "language_info": {
   "codemirror_mode": {
    "name": "ipython",
    "version": 3
   },
   "file_extension": ".py",
   "mimetype": "text/x-python",
   "name": "python",
   "nbconvert_exporter": "python",
   "pygments_lexer": "ipython3",
   "version": "3.11.10"
  }
 },
 "nbformat": 4,
 "nbformat_minor": 5
}
