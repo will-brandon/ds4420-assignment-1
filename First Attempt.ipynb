{
 "cells": [
  {
   "cell_type": "markdown",
   "id": "98645648-2d3e-4e74-b6ca-2f71903f0ef1",
   "metadata": {},
   "source": [
    "## Imports"
   ]
  },
  {
   "cell_type": "code",
   "execution_count": 1,
   "id": "d983657a-6616-4671-80b4-e8dd95c3050e",
   "metadata": {},
   "outputs": [],
   "source": [
    "from typing import Tuple\n",
    "\n",
    "import pandas as pd\n",
    "from sklearn.model_selection import train_test_split\n",
    "from sklearn.feature_extraction.text import TfidfVectorizer\n",
    "from sklearn.linear_model import LogisticRegression\n",
    "from sklearn.metrics import classification_report"
   ]
  },
  {
   "cell_type": "markdown",
   "id": "644d15c5-21b6-4bb5-beeb-053ab71f65d7",
   "metadata": {},
   "source": [
    "## Reading Datasets"
   ]
  },
  {
   "cell_type": "code",
   "execution_count": 2,
   "id": "c9eb5734-06a1-44c4-b71c-ccb525e95205",
   "metadata": {},
   "outputs": [],
   "source": [
    "def read_csv(filename: str) -> pd.DataFrame:\n",
    "    return pd.read_csv(filename, sep=',', encoding='latin-1')\n",
    "\n",
    "train_and_val_data = read_csv('data/ds4420_kaggle_train_data.csv')\n",
    "test_data = read_csv('data/ds4420_kaggle_test_data.csv')\n",
    "\n",
    "def split_label(data: pd.DataFrame) -> Tuple[pd.DataFrame, pd.DataFrame]:\n",
    "    return data.drop('Label', axis=1), data['Label']\n",
    "\n",
    "X_train_and_val, y_train_and_val = split_label(train_and_val_data)\n",
    "X_test = test_data"
   ]
  },
  {
   "cell_type": "markdown",
   "id": "f3f7f9b2-2a6c-4935-8401-edea4ee0a27a",
   "metadata": {},
   "source": [
    "## Splitting Into Training and Validation Sets"
   ]
  },
  {
   "cell_type": "code",
   "execution_count": 3,
   "id": "83fac3d1-6914-4b1c-b916-5fbad0767da0",
   "metadata": {},
   "outputs": [
    {
     "data": {
      "text/html": [
       "<div>\n",
       "<style scoped>\n",
       "    .dataframe tbody tr th:only-of-type {\n",
       "        vertical-align: middle;\n",
       "    }\n",
       "\n",
       "    .dataframe tbody tr th {\n",
       "        vertical-align: top;\n",
       "    }\n",
       "\n",
       "    .dataframe thead th {\n",
       "        text-align: right;\n",
       "    }\n",
       "</style>\n",
       "<table border=\"1\" class=\"dataframe\">\n",
       "  <thead>\n",
       "    <tr style=\"text-align: right;\">\n",
       "      <th></th>\n",
       "      <th>ID</th>\n",
       "      <th>Text</th>\n",
       "      <th>Selected_Text</th>\n",
       "      <th>Selected_Text_Sentiment</th>\n",
       "      <th>Time_of_Post</th>\n",
       "      <th>User_Age</th>\n",
       "      <th>Population</th>\n",
       "      <th>Land_Size</th>\n",
       "      <th>Population_Density</th>\n",
       "    </tr>\n",
       "  </thead>\n",
       "  <tbody>\n",
       "    <tr>\n",
       "      <th>13294</th>\n",
       "      <td>13294</td>\n",
       "      <td>In a period of exams days are for study and ni...</td>\n",
       "      <td>no funny time..</td>\n",
       "      <td>negative</td>\n",
       "      <td>7</td>\n",
       "      <td>10</td>\n",
       "      <td>102334404</td>\n",
       "      <td>995450</td>\n",
       "      <td>103</td>\n",
       "    </tr>\n",
       "    <tr>\n",
       "      <th>17124</th>\n",
       "      <td>17124</td>\n",
       "      <td>So bored.... couldn`t go to a-kon...</td>\n",
       "      <td>bored..</td>\n",
       "      <td>negative</td>\n",
       "      <td>22</td>\n",
       "      <td>37</td>\n",
       "      <td>33469203</td>\n",
       "      <td>425400</td>\n",
       "      <td>79</td>\n",
       "    </tr>\n",
       "    <tr>\n",
       "      <th>12560</th>\n",
       "      <td>12560</td>\n",
       "      <td>its nice to have no assignments for the night</td>\n",
       "      <td>nice</td>\n",
       "      <td>positive</td>\n",
       "      <td>17</td>\n",
       "      <td>69</td>\n",
       "      <td>26378274</td>\n",
       "      <td>318000</td>\n",
       "      <td>83</td>\n",
       "    </tr>\n",
       "  </tbody>\n",
       "</table>\n",
       "</div>"
      ],
      "text/plain": [
       "          ID                                               Text  \\\n",
       "13294  13294  In a period of exams days are for study and ni...   \n",
       "17124  17124               So bored.... couldn`t go to a-kon...   \n",
       "12560  12560      its nice to have no assignments for the night   \n",
       "\n",
       "         Selected_Text Selected_Text_Sentiment  Time_of_Post  User_Age  \\\n",
       "13294  no funny time..                negative             7        10   \n",
       "17124          bored..                negative            22        37   \n",
       "12560             nice                positive            17        69   \n",
       "\n",
       "       Population  Land_Size  Population_Density  \n",
       "13294   102334404     995450                 103  \n",
       "17124    33469203     425400                  79  \n",
       "12560    26378274     318000                  83  "
      ]
     },
     "execution_count": 3,
     "metadata": {},
     "output_type": "execute_result"
    }
   ],
   "source": [
    "X_train, X_val, y_train, y_val = train_test_split(X_train_and_val, y_train_and_val, test_size=0.2, random_state=42)\n",
    "\n",
    "X_train.head(3)"
   ]
  },
  {
   "cell_type": "markdown",
   "id": "270d159c-fc9e-461f-b9ba-fb5af641cf07",
   "metadata": {},
   "source": [
    "## TF-IDF Vectorizer & Logistic Regression"
   ]
  },
  {
   "cell_type": "code",
   "execution_count": 9,
   "id": "f71fec2b-ec70-4657-b292-ab6927e4917d",
   "metadata": {},
   "outputs": [
    {
     "name": "stdout",
     "output_type": "stream",
     "text": [
      "              precision    recall  f1-score   support\n",
      "\n",
      "           0       0.84      0.95      0.89      3261\n",
      "           1       0.85      0.60      0.70      1476\n",
      "\n",
      "    accuracy                           0.84      4737\n",
      "   macro avg       0.84      0.77      0.80      4737\n",
      "weighted avg       0.84      0.84      0.83      4737\n",
      "\n"
     ]
    }
   ],
   "source": [
    "vectorizer = TfidfVectorizer()\n",
    "X_train_tfidf_vec = vectorizer.fit_transform(X_train['Text'])\n",
    "X_val_tfidf_vec = vectorizer.transform(X_val['Text'])\n",
    "\n",
    "model = LogisticRegression(random_state=1).fit(X_train_tfidf_vec, y_train)\n",
    "y_train_pred = model.predict(X_train_tfidf_vec)\n",
    "y_val_pred = model.predict(X_val_tfidf_vec)\n",
    "\n",
    "print(classification_report(y_val, y_val_pred))\n",
    "\n",
    "test_data_exportable = test_data.copy()\n",
    "X_test_vec = vectorizer.transform(X_test['Text'])\n",
    "y_test_pred = model.predict(X_test_vec)\n",
    "test_data_exportable['Label'] = y_test_pred\n",
    "test_data_exportable = test_data_exportable[['ID', 'Label']]\n",
    "test_data_exportable.to_csv('tfidf-logistic-regression.csv', index=False)"
   ]
  },
  {
   "cell_type": "code",
   "execution_count": null,
   "id": "8b843593-7dd4-4595-95dd-4ef571ab954c",
   "metadata": {},
   "outputs": [],
   "source": []
  },
  {
   "cell_type": "code",
   "execution_count": null,
   "id": "69b6f75c-53c0-4a6d-a9ff-bcbef02d64b5",
   "metadata": {},
   "outputs": [],
   "source": []
  },
  {
   "cell_type": "code",
   "execution_count": null,
   "id": "e4df70c1-7e3d-4241-a70c-31896ece7009",
   "metadata": {},
   "outputs": [],
   "source": []
  }
 ],
 "metadata": {
  "kernelspec": {
   "display_name": "Python 3 (ipykernel)",
   "language": "python",
   "name": "python3"
  },
  "language_info": {
   "codemirror_mode": {
    "name": "ipython",
    "version": 3
   },
   "file_extension": ".py",
   "mimetype": "text/x-python",
   "name": "python",
   "nbconvert_exporter": "python",
   "pygments_lexer": "ipython3",
   "version": "3.11.10"
  }
 },
 "nbformat": 4,
 "nbformat_minor": 5
}
