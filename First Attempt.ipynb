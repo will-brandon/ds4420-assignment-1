{
 "cells": [
  {
   "cell_type": "markdown",
   "id": "98645648-2d3e-4e74-b6ca-2f71903f0ef1",
   "metadata": {},
   "source": [
    "## Imports"
   ]
  },
  {
   "cell_type": "code",
   "execution_count": 1,
   "id": "d983657a-6616-4671-80b4-e8dd95c3050e",
   "metadata": {},
   "outputs": [],
   "source": [
    "from __future__ import annotations\n",
    "from typing import Optional, Any, Tuple, List\n",
    "\n",
    "import re\n",
    "import pandas as pd\n",
    "from sklearn.model_selection import train_test_split\n",
    "from sklearn.compose import ColumnTransformer\n",
    "from sklearn.base import BaseEstimator, TransformerMixin\n",
    "from sklearn.pipeline import Pipeline\n",
    "from sklearn.preprocessing import StandardScaler, MinMaxScaler\n",
    "from sklearn.feature_extraction.text import TfidfVectorizer, CountVectorizer\n",
    "from sklearn.linear_model import LogisticRegression\n",
    "from sklearn.ensemble import RandomForestClassifier, GradientBoostingClassifier\n",
    "from sklearn.naive_bayes import MultinomialNB\n",
    "from sklearn.svm import SVC\n",
    "from sklearn.metrics import classification_report"
   ]
  },
  {
   "cell_type": "markdown",
   "id": "644d15c5-21b6-4bb5-beeb-053ab71f65d7",
   "metadata": {},
   "source": [
    "## Reading Datafiles"
   ]
  },
  {
   "cell_type": "code",
   "execution_count": 2,
   "id": "c9eb5734-06a1-44c4-b71c-ccb525e95205",
   "metadata": {},
   "outputs": [],
   "source": [
    "def read_csv(filename: str) -> pd.DataFrame:\n",
    "    return pd.read_csv(filename, sep=',', encoding='latin-1')\n",
    "\n",
    "train_and_val_data = read_csv('data/ds4420_kaggle_train_data.csv')\n",
    "test_data = read_csv('data/ds4420_kaggle_test_data.csv')\n",
    "\n",
    "def split_label(data: pd.DataFrame) -> Tuple[pd.DataFrame, pd.DataFrame]:\n",
    "    return data.drop('Label', axis=1), data['Label']\n",
    "\n",
    "X_train_and_val, y_train_and_val = split_label(train_and_val_data)\n",
    "X_test = test_data"
   ]
  },
  {
   "cell_type": "markdown",
   "id": "f3f7f9b2-2a6c-4935-8401-edea4ee0a27a",
   "metadata": {},
   "source": [
    "## Splitting Into Training and Validation Sets"
   ]
  },
  {
   "cell_type": "code",
   "execution_count": 3,
   "id": "83fac3d1-6914-4b1c-b916-5fbad0767da0",
   "metadata": {},
   "outputs": [
    {
     "data": {
      "text/html": [
       "<div>\n",
       "<style scoped>\n",
       "    .dataframe tbody tr th:only-of-type {\n",
       "        vertical-align: middle;\n",
       "    }\n",
       "\n",
       "    .dataframe tbody tr th {\n",
       "        vertical-align: top;\n",
       "    }\n",
       "\n",
       "    .dataframe thead th {\n",
       "        text-align: right;\n",
       "    }\n",
       "</style>\n",
       "<table border=\"1\" class=\"dataframe\">\n",
       "  <thead>\n",
       "    <tr style=\"text-align: right;\">\n",
       "      <th></th>\n",
       "      <th>ID</th>\n",
       "      <th>Text</th>\n",
       "      <th>Selected_Text</th>\n",
       "      <th>Selected_Text_Sentiment</th>\n",
       "      <th>Time_of_Post</th>\n",
       "      <th>User_Age</th>\n",
       "      <th>Population</th>\n",
       "      <th>Land_Size</th>\n",
       "      <th>Population_Density</th>\n",
       "    </tr>\n",
       "  </thead>\n",
       "  <tbody>\n",
       "    <tr>\n",
       "      <th>13294</th>\n",
       "      <td>13294</td>\n",
       "      <td>In a period of exams days are for study and ni...</td>\n",
       "      <td>no funny time..</td>\n",
       "      <td>negative</td>\n",
       "      <td>7</td>\n",
       "      <td>10</td>\n",
       "      <td>102334404</td>\n",
       "      <td>995450</td>\n",
       "      <td>103</td>\n",
       "    </tr>\n",
       "    <tr>\n",
       "      <th>17124</th>\n",
       "      <td>17124</td>\n",
       "      <td>So bored.... couldn`t go to a-kon...</td>\n",
       "      <td>bored..</td>\n",
       "      <td>negative</td>\n",
       "      <td>22</td>\n",
       "      <td>37</td>\n",
       "      <td>33469203</td>\n",
       "      <td>425400</td>\n",
       "      <td>79</td>\n",
       "    </tr>\n",
       "    <tr>\n",
       "      <th>12560</th>\n",
       "      <td>12560</td>\n",
       "      <td>its nice to have no assignments for the night</td>\n",
       "      <td>nice</td>\n",
       "      <td>positive</td>\n",
       "      <td>17</td>\n",
       "      <td>69</td>\n",
       "      <td>26378274</td>\n",
       "      <td>318000</td>\n",
       "      <td>83</td>\n",
       "    </tr>\n",
       "  </tbody>\n",
       "</table>\n",
       "</div>"
      ],
      "text/plain": [
       "          ID                                               Text  \\\n",
       "13294  13294  In a period of exams days are for study and ni...   \n",
       "17124  17124               So bored.... couldn`t go to a-kon...   \n",
       "12560  12560      its nice to have no assignments for the night   \n",
       "\n",
       "         Selected_Text Selected_Text_Sentiment  Time_of_Post  User_Age  \\\n",
       "13294  no funny time..                negative             7        10   \n",
       "17124          bored..                negative            22        37   \n",
       "12560             nice                positive            17        69   \n",
       "\n",
       "       Population  Land_Size  Population_Density  \n",
       "13294   102334404     995450                 103  \n",
       "17124    33469203     425400                  79  \n",
       "12560    26378274     318000                  83  "
      ]
     },
     "execution_count": 3,
     "metadata": {},
     "output_type": "execute_result"
    }
   ],
   "source": [
    "X_train, X_val, y_train, y_val = train_test_split(X_train_and_val, y_train_and_val, test_size=0.2, random_state=42)\n",
    "\n",
    "X_train.head(3)"
   ]
  },
  {
   "cell_type": "code",
   "execution_count": 4,
   "id": "2d85b4f7-d022-421a-b118-7cbdd7f0b388",
   "metadata": {},
   "outputs": [
    {
     "data": {
      "text/plain": [
       "\"\\ndef clean_text(text: str) -> List[str]:\\n        text = text.lower()\\n        text = re.sub(r'[^\\\\w\\\\s]', '', text)\\n        return text\\n\""
      ]
     },
     "execution_count": 4,
     "metadata": {},
     "output_type": "execute_result"
    }
   ],
   "source": [
    "def evaluate_and_save_results(pipeline: Pipeline, model_num: int) -> None:\n",
    "    pipeline.fit(X_train, y_train)\n",
    "    \n",
    "    y_train_pred = pipeline.predict(X_train)\n",
    "    y_val_pred = pipeline.predict(X_val)\n",
    "    y_test_pred = pipeline.predict(X_test)\n",
    "    \n",
    "    print(classification_report(y_val, y_val_pred))\n",
    "    \n",
    "    test_data_exportable = test_data.copy()\n",
    "    test_data_exportable['Label'] = y_test_pred\n",
    "    test_data_exportable = test_data_exportable[['ID', 'Label']]\n",
    "    test_data_exportable.to_csv(f'outputs/model{model_num}.csv', index=False)\n",
    "\n",
    "\"\"\"\n",
    "def clean_text(text: str) -> List[str]:\n",
    "        text = text.lower()\n",
    "        text = re.sub(r'[^\\w\\s]', '', text)\n",
    "        return text\n",
    "\"\"\""
   ]
  },
  {
   "cell_type": "code",
   "execution_count": 5,
   "id": "6ec2dc8f-f259-4423-bde7-49bbb10568ef",
   "metadata": {},
   "outputs": [],
   "source": [
    "models_to_run = {\n",
    "    'model1': True,\n",
    "    'model2': True,\n",
    "    'model3': True,\n",
    "    'model4': True,\n",
    "    'model5': True,\n",
    "    'model6': True,\n",
    "    'model7': True,\n",
    "    'model8': True,\n",
    "    'model9': True,\n",
    "    'model10': True,\n",
    "}"
   ]
  },
  {
   "cell_type": "code",
   "execution_count": 6,
   "id": "f71fec2b-ec70-4657-b292-ab6927e4917d",
   "metadata": {},
   "outputs": [
    {
     "name": "stdout",
     "output_type": "stream",
     "text": [
      "              precision    recall  f1-score   support\n",
      "\n",
      "           0       0.84      0.95      0.89      3261\n",
      "           1       0.85      0.60      0.70      1476\n",
      "\n",
      "    accuracy                           0.84      4737\n",
      "   macro avg       0.84      0.77      0.80      4737\n",
      "weighted avg       0.84      0.84      0.83      4737\n",
      "\n"
     ]
    }
   ],
   "source": [
    "if models_to_run['model1']:\n",
    "    preprocessor = ColumnTransformer(\n",
    "        transformers=[\n",
    "            ('text', TfidfVectorizer(), 'Text'),\n",
    "        ]\n",
    "    )\n",
    "    \n",
    "    pipeline = Pipeline(\n",
    "        steps=[\n",
    "            ('preprocessor', preprocessor),\n",
    "            ('regressor', LogisticRegression(random_state=1)),\n",
    "        ]\n",
    "    )\n",
    "    \n",
    "    evaluate_and_save_results(pipeline, 1)"
   ]
  },
  {
   "cell_type": "code",
   "execution_count": 7,
   "id": "a203be85-c41f-4b25-ab5e-0db3d651ce80",
   "metadata": {},
   "outputs": [
    {
     "name": "stdout",
     "output_type": "stream",
     "text": [
      "              precision    recall  f1-score   support\n",
      "\n",
      "           0       0.87      0.91      0.89      3261\n",
      "           1       0.77      0.70      0.73      1476\n",
      "\n",
      "    accuracy                           0.84      4737\n",
      "   macro avg       0.82      0.80      0.81      4737\n",
      "weighted avg       0.84      0.84      0.84      4737\n",
      "\n"
     ]
    }
   ],
   "source": [
    "if models_to_run['model2']:\n",
    "    preprocessor = ColumnTransformer(\n",
    "        transformers=[\n",
    "            ('text', TfidfVectorizer(stop_words='english'), 'Text'),\n",
    "            ('numeric', StandardScaler(), ['User_Age', 'Time_of_Post', 'Population_Density']),\n",
    "        ]\n",
    "    )\n",
    "    \n",
    "    pipeline = Pipeline(\n",
    "        steps=[\n",
    "            ('preprocessor', preprocessor),\n",
    "            ('regressor', RandomForestClassifier(n_estimators=200, random_state=1)),\n",
    "        ]\n",
    "    )\n",
    "    \n",
    "    evaluate_and_save_results(pipeline, 2)"
   ]
  },
  {
   "cell_type": "code",
   "execution_count": 8,
   "id": "bb3ac346-f71f-42a5-a04f-baf5558c84ce",
   "metadata": {},
   "outputs": [
    {
     "name": "stdout",
     "output_type": "stream",
     "text": [
      "              precision    recall  f1-score   support\n",
      "\n",
      "           0       0.88      0.90      0.89      3261\n",
      "           1       0.77      0.72      0.74      1476\n",
      "\n",
      "    accuracy                           0.84      4737\n",
      "   macro avg       0.82      0.81      0.82      4737\n",
      "weighted avg       0.84      0.84      0.84      4737\n",
      "\n"
     ]
    }
   ],
   "source": [
    "if models_to_run['model3']:\n",
    "    preprocessor = ColumnTransformer(\n",
    "        transformers=[\n",
    "            ('text', CountVectorizer(stop_words='english'), 'Text'),\n",
    "            ('numeric', StandardScaler(), ['User_Age', 'Time_of_Post', 'Population_Density']),\n",
    "        ]\n",
    "    )\n",
    "    \n",
    "    pipeline = Pipeline(\n",
    "        steps=[\n",
    "            ('preprocessor', preprocessor),\n",
    "            ('regressor', RandomForestClassifier(n_estimators=200, random_state=1))\n",
    "        ]\n",
    "    )\n",
    "    \n",
    "    evaluate_and_save_results(pipeline, 3)"
   ]
  },
  {
   "cell_type": "code",
   "execution_count": 9,
   "id": "2690bd90-a9a6-488b-8f4f-9d2d1d27662f",
   "metadata": {},
   "outputs": [
    {
     "name": "stdout",
     "output_type": "stream",
     "text": [
      "              precision    recall  f1-score   support\n",
      "\n",
      "           0       0.82      0.93      0.87      3261\n",
      "           1       0.77      0.54      0.64      1476\n",
      "\n",
      "    accuracy                           0.81      4737\n",
      "   macro avg       0.80      0.74      0.75      4737\n",
      "weighted avg       0.80      0.81      0.80      4737\n",
      "\n"
     ]
    }
   ],
   "source": [
    "if models_to_run['model4']:\n",
    "    preprocessor = ColumnTransformer(\n",
    "        transformers=[\n",
    "            ('text', CountVectorizer(stop_words='english'), 'Text'),\n",
    "            ('numeric', MinMaxScaler(), ['User_Age', 'Time_of_Post', 'Population_Density']),\n",
    "        ]\n",
    "    )\n",
    "    \n",
    "    pipeline = Pipeline(\n",
    "        steps=[\n",
    "            ('preprocessor', preprocessor),\n",
    "            ('regressor', MultinomialNB()),\n",
    "        ]\n",
    "    )\n",
    "    \n",
    "    evaluate_and_save_results(pipeline, 4)"
   ]
  },
  {
   "cell_type": "code",
   "execution_count": 10,
   "id": "366b87e8-9c6c-4937-a5c8-20e615d1f503",
   "metadata": {},
   "outputs": [
    {
     "name": "stdout",
     "output_type": "stream",
     "text": [
      "              precision    recall  f1-score   support\n",
      "\n",
      "           0       0.75      0.97      0.85      3261\n",
      "           1       0.82      0.30      0.43      1476\n",
      "\n",
      "    accuracy                           0.76      4737\n",
      "   macro avg       0.78      0.63      0.64      4737\n",
      "weighted avg       0.77      0.76      0.72      4737\n",
      "\n"
     ]
    }
   ],
   "source": [
    "if models_to_run['model5']:\n",
    "    preprocessor = ColumnTransformer(\n",
    "        transformers=[\n",
    "            ('text', CountVectorizer(stop_words='english'), 'Text'),\n",
    "            ('numeric', StandardScaler(), ['User_Age', 'Time_of_Post', 'Population_Density']),\n",
    "        ]\n",
    "    )\n",
    "    \n",
    "    pipeline = Pipeline(\n",
    "        steps=[\n",
    "            ('preprocessor', preprocessor),\n",
    "            ('regressor', SVC(kernel='poly')),\n",
    "        ]\n",
    "    )\n",
    "    \n",
    "    evaluate_and_save_results(pipeline, 5)"
   ]
  },
  {
   "cell_type": "code",
   "execution_count": 11,
   "id": "2341d11b-4b3a-4982-abba-e62bfe4a040b",
   "metadata": {},
   "outputs": [
    {
     "name": "stdout",
     "output_type": "stream",
     "text": [
      "              precision    recall  f1-score   support\n",
      "\n",
      "           0       0.87      0.91      0.89      3261\n",
      "           1       0.77      0.71      0.74      1476\n",
      "\n",
      "    accuracy                           0.84      4737\n",
      "   macro avg       0.82      0.81      0.81      4737\n",
      "weighted avg       0.84      0.84      0.84      4737\n",
      "\n"
     ]
    }
   ],
   "source": [
    "if models_to_run['model6']:\n",
    "    class YellingFeatureExtractor(BaseEstimator, TransformerMixin):\n",
    "\n",
    "        def __init__(self) -> None:\n",
    "            BaseEstimator.__init__(self)\n",
    "            TransformerMixin.__init__(self)\n",
    "\n",
    "        def __text_contains_yelling_binary(self, text: str) -> int:\n",
    "            return int(any(word.isupper() for word in text.split(' ')))\n",
    "\n",
    "        def fit(self, X: pd.Series, y: Optional[Any]=None) -> YellingFeatureExtractor:\n",
    "            return self\n",
    "\n",
    "        def transform(self, X: pd.Series) -> pd.DataFrame:\n",
    "            yelling_feature = X.apply(self.__text_contains_yelling_binary)\n",
    "            return yelling_feature.values.reshape(-1, 1)\n",
    "        \n",
    "    text_vectorizer = CountVectorizer(\n",
    "        stop_words='english',\n",
    "        # ngram_range=(1, 2)\n",
    "    )\n",
    "    \n",
    "    preprocessor = ColumnTransformer(\n",
    "        transformers=[\n",
    "            ('text', text_vectorizer, 'Text'),\n",
    "            ('numeric', StandardScaler(), ['User_Age', 'Time_of_Post', 'Population_Density']),\n",
    "            ('yelling', YellingFeatureExtractor(), 'Text'),\n",
    "        ]\n",
    "    )\n",
    "    \n",
    "    pipeline = Pipeline(\n",
    "        steps=[\n",
    "            ('preprocessor', preprocessor),\n",
    "            ('regressor', RandomForestClassifier(n_estimators=200, random_state=1)),\n",
    "        ]\n",
    "    )\n",
    "    \n",
    "    evaluate_and_save_results(pipeline, 6)"
   ]
  },
  {
   "cell_type": "code",
   "execution_count": 12,
   "id": "6e94c9d4-bc0b-4145-bb23-c10bade5ef54",
   "metadata": {},
   "outputs": [
    {
     "name": "stdout",
     "output_type": "stream",
     "text": [
      "              precision    recall  f1-score   support\n",
      "\n",
      "           0       0.87      0.91      0.89      3261\n",
      "           1       0.77      0.71      0.74      1476\n",
      "\n",
      "    accuracy                           0.85      4737\n",
      "   macro avg       0.82      0.81      0.82      4737\n",
      "weighted avg       0.84      0.85      0.84      4737\n",
      "\n"
     ]
    }
   ],
   "source": [
    "if models_to_run['model7']:\n",
    "    class YellingFeatureExtractor(BaseEstimator, TransformerMixin):\n",
    "\n",
    "        def __init__(self) -> None:\n",
    "            BaseEstimator.__init__(self)\n",
    "            TransformerMixin.__init__(self)\n",
    "\n",
    "        def __text_contains_yelling_binary(self, text: str) -> int:\n",
    "            return int(any(word.isupper() for word in text.split(' ')))\n",
    "\n",
    "        def fit(self, X: pd.Series, y: Optional[Any]=None) -> YellingFeatureExtractor:\n",
    "            return self\n",
    "\n",
    "        def transform(self, X: pd.Series) -> pd.DataFrame:\n",
    "            yelling_feature = X.apply(self.__text_contains_yelling_binary)\n",
    "            return yelling_feature.values.reshape(-1, 1)\n",
    "        \n",
    "    text_vectorizer = CountVectorizer(\n",
    "        stop_words='english',\n",
    "        # ngram_range=(1, 2)\n",
    "    )\n",
    "    \n",
    "    preprocessor = ColumnTransformer(\n",
    "        transformers=[\n",
    "            ('text', text_vectorizer, 'Text'),\n",
    "            ('numeric', StandardScaler(), ['User_Age', 'Time_of_Post', 'Population', 'Land_Size']),\n",
    "            ('yelling', YellingFeatureExtractor(), 'Text'),\n",
    "        ]\n",
    "    )\n",
    "    \n",
    "    pipeline = Pipeline(\n",
    "        steps=[\n",
    "            ('preprocessor', preprocessor),\n",
    "            ('regressor', RandomForestClassifier(n_estimators=200, random_state=1)),\n",
    "        ]\n",
    "    )\n",
    "    \n",
    "    evaluate_and_save_results(pipeline, 8)"
   ]
  }
 ],
 "metadata": {
  "kernelspec": {
   "display_name": "Python 3 (ipykernel)",
   "language": "python",
   "name": "python3"
  },
  "language_info": {
   "codemirror_mode": {
    "name": "ipython",
    "version": 3
   },
   "file_extension": ".py",
   "mimetype": "text/x-python",
   "name": "python",
   "nbconvert_exporter": "python",
   "pygments_lexer": "ipython3",
   "version": "3.11.10"
  }
 },
 "nbformat": 4,
 "nbformat_minor": 5
}
