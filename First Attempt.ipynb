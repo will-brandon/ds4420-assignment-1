{
 "cells": [
  {
   "cell_type": "markdown",
   "id": "98645648-2d3e-4e74-b6ca-2f71903f0ef1",
   "metadata": {},
   "source": [
    "## Imports"
   ]
  },
  {
   "cell_type": "code",
   "execution_count": 1,
   "id": "d983657a-6616-4671-80b4-e8dd95c3050e",
   "metadata": {},
   "outputs": [],
   "source": [
    "from __future__ import annotations\n",
    "from typing import Optional, Any, Tuple, List\n",
    "import re\n",
    "\n",
    "import pandas as pd\n",
    "from sklearn.decomposition import TruncatedSVD\n",
    "from sklearn.model_selection import train_test_split\n",
    "from sklearn.compose import ColumnTransformer\n",
    "from sklearn.base import BaseEstimator, TransformerMixin\n",
    "from sklearn.pipeline import Pipeline\n",
    "from sklearn.preprocessing import StandardScaler, MinMaxScaler, PolynomialFeatures\n",
    "from sklearn.feature_extraction.text import TfidfVectorizer, CountVectorizer\n",
    "from sklearn.linear_model import LogisticRegression\n",
    "from sklearn.ensemble import RandomForestClassifier, GradientBoostingClassifier\n",
    "from sklearn.naive_bayes import MultinomialNB\n",
    "from sklearn.svm import SVC\n",
    "from sklearn.metrics import classification_report"
   ]
  },
  {
   "cell_type": "markdown",
   "id": "644d15c5-21b6-4bb5-beeb-053ab71f65d7",
   "metadata": {},
   "source": [
    "## Reading Datafiles"
   ]
  },
  {
   "cell_type": "code",
   "execution_count": 2,
   "id": "c9eb5734-06a1-44c4-b71c-ccb525e95205",
   "metadata": {},
   "outputs": [],
   "source": [
    "def read_csv(filename: str) -> pd.DataFrame:\n",
    "    return pd.read_csv(filename, sep=',', encoding='latin-1')\n",
    "\n",
    "train_and_val_data = read_csv('data/ds4420_kaggle_train_data.csv')\n",
    "test_data = read_csv('data/ds4420_kaggle_test_data.csv')\n",
    "\n",
    "def split_label(data: pd.DataFrame) -> Tuple[pd.DataFrame, pd.DataFrame]:\n",
    "    return data.drop('Label', axis=1), data['Label']\n",
    "\n",
    "X_train_and_val, y_train_and_val = split_label(train_and_val_data)\n",
    "X_train, X_val, y_train, y_val = train_test_split(X_train_and_val,\n",
    "                                                      y_train_and_val,\n",
    "                                                      test_size=0.2,\n",
    "                                                      random_state=1)\n",
    "\n",
    "X_test = test_data"
   ]
  },
  {
   "cell_type": "markdown",
   "id": "02eff251-788e-4728-ba1c-896ac5ea7beb",
   "metadata": {},
   "source": [
    "## Custom Feature Extractors"
   ]
  },
  {
   "cell_type": "code",
   "execution_count": 3,
   "id": "8b6fe854-7992-415c-927d-946e2fd05213",
   "metadata": {},
   "outputs": [],
   "source": [
    "class CapsBinaryFeatureExtractor(BaseEstimator, TransformerMixin):\n",
    "    \"\"\"\n",
    "    Converts a text feature into a binary feature where 1 denotes that at least one word in the text\n",
    "    is completely capitalized, which is assumed to be yelling.\n",
    "    \"\"\"\n",
    "    \n",
    "    def __init__(self) -> None:\n",
    "        BaseEstimator.__init__(self)\n",
    "        TransformerMixin.__init__(self)\n",
    "        \n",
    "    def __text_contains_caps_binary(self, text: str) -> int:\n",
    "        return int(any(word.isupper() for word in text.split(' ')))\n",
    "    \n",
    "    def fit(self, X: pd.Series, y: Optional[Any]=None) -> CapsBinaryFeatureExtractor:\n",
    "        return self\n",
    "        \n",
    "    def transform(self, X: pd.Series) -> pd.DataFrame:\n",
    "        yelling_feature = X.apply(self.__text_contains_caps_binary)\n",
    "        return yelling_feature.values.reshape(-1, 1)\n",
    "\n",
    "class CapsCountFeatureExtractor(BaseEstimator, TransformerMixin):\n",
    "    \"\"\"\n",
    "    Converts a text feature into a numeric feature count of the number of words in the text that are\n",
    "    completely capitalized, which is assumed to be yelling.\n",
    "    \"\"\"\n",
    "    \n",
    "    def __init__(self) -> None:\n",
    "        BaseEstimator.__init__(self)\n",
    "        TransformerMixin.__init__(self)\n",
    "    \n",
    "    def __text_caps_count(self, text: str) -> int:\n",
    "        return int(sum(1 for word in text.split(' ') if word.isupper()))\n",
    "    \n",
    "    def fit(self, X: pd.Series, y: Optional[Any]=None) -> CapsCountFeatureExtractor:\n",
    "        return self\n",
    "    \n",
    "    def transform(self, X: pd.Series) -> pd.DataFrame:\n",
    "        yelling_feature = X.apply(self.__text_caps_count)\n",
    "        return yelling_feature.values.reshape(-1, 1)\n",
    "\n",
    "class ExclamationBinaryFeatureExtractor(BaseEstimator, TransformerMixin):\n",
    "    \"\"\"\n",
    "    Converts a text feature into binary feature where 1 indicates the text containst at least one '!'.\n",
    "    \"\"\"\n",
    "    \n",
    "    def __init__(self) -> None:\n",
    "        BaseEstimator.__init__(self)\n",
    "        TransformerMixin.__init__(self)\n",
    "    \n",
    "    def fit(self, X: pd.Series, y: Optional[Any]=None) -> ExclamationBinaryFeatureExtractor:\n",
    "        return self\n",
    "    \n",
    "    def transform(self, X: pd.Series) -> pd.DataFrame:\n",
    "        yelling_feature = X.apply(lambda text: 0 + ('!' in text))\n",
    "        return yelling_feature.values.reshape(-1, 1)\n",
    "\n",
    "class ExclamationCountFeatureExtractor(BaseEstimator, TransformerMixin):\n",
    "    \"\"\"\n",
    "    Converts a text feature into a numeric feature count of the number of exclamation marks, which is\n",
    "    assumed to be yelling.\n",
    "    \"\"\"\n",
    "    \n",
    "    def __init__(self) -> None:\n",
    "        BaseEstimator.__init__(self)\n",
    "        TransformerMixin.__init__(self)\n",
    "    \n",
    "    def fit(self, X: pd.Series, y: Optional[Any]=None) -> ExclamationCountFeatureExtractor:\n",
    "        return self\n",
    "    \n",
    "    def transform(self, X: pd.Series) -> pd.DataFrame:\n",
    "        yelling_feature = X.apply(lambda text: text.count('!'))\n",
    "        return yelling_feature.values.reshape(-1, 1)\n",
    "\n",
    "class SwearingFeatureExtractor(BaseEstimator, TransformerMixin):\n",
    "    \"\"\"\n",
    "    Converts a text feature into a binary feature where 1 denotes swearing occurs, which is usually\n",
    "    seen in text as a series of 2 or more asterisks, e.g. ****.\n",
    "    \"\"\"\n",
    "    \n",
    "    def __init__(self) -> None:\n",
    "        BaseEstimator.__init__(self)\n",
    "        TransformerMixin.__init__(self)\n",
    "    \n",
    "    def fit(self, X: pd.Series, y: Optional[Any]=None) -> SwearingFeatureExtractor:\n",
    "        return self\n",
    "    \n",
    "    def transform(self, X: pd.Series) -> pd.DataFrame:\n",
    "        yelling_feature = X.apply(lambda text: 0 + ('**' in text))\n",
    "        return yelling_feature.values.reshape(-1, 1)"
   ]
  },
  {
   "cell_type": "code",
   "execution_count": 4,
   "id": "cb541186-4651-4eff-984a-b50ff39b673a",
   "metadata": {},
   "outputs": [],
   "source": [
    "def clean_text(text: str) -> List[str]:\n",
    "    text = text.lower()\n",
    "    text = re.sub(r'[^\\w\\s]', '', text)\n",
    "    return text"
   ]
  },
  {
   "cell_type": "markdown",
   "id": "1295d9ef-c925-4bf8-af57-ef3f7cea91f4",
   "metadata": {},
   "source": [
    "## Reusable Funtionality to Evaluate a Model and Save Results"
   ]
  },
  {
   "cell_type": "code",
   "execution_count": 5,
   "id": "2d85b4f7-d022-421a-b118-7cbdd7f0b388",
   "metadata": {},
   "outputs": [],
   "source": [
    "def evaluate_and_save_results(pipeline: Pipeline, model_num: int) -> None:\n",
    "    \n",
    "    pipeline.fit(X_train, y_train)\n",
    "    \n",
    "    y_train_pred = pipeline.predict(X_train)\n",
    "    y_val_pred = pipeline.predict(X_val)\n",
    "    y_test_pred = pipeline.predict(X_test)\n",
    "    \n",
    "    print(classification_report(y_val, y_val_pred))\n",
    "    \n",
    "    test_data_exportable = test_data.copy()\n",
    "    test_data_exportable['Label'] = y_test_pred\n",
    "    test_data_exportable = test_data_exportable[['ID', 'Label']]\n",
    "    test_data_exportable.to_csv(f'outputs/model{model_num}.csv', index=False)"
   ]
  },
  {
   "cell_type": "markdown",
   "id": "547bc283-8639-440b-ab4e-775b1d98685e",
   "metadata": {},
   "source": [
    "## A \"Switchboard\" to Enable and Disable Running Each Model"
   ]
  },
  {
   "cell_type": "code",
   "execution_count": 6,
   "id": "6ec2dc8f-f259-4423-bde7-49bbb10568ef",
   "metadata": {},
   "outputs": [],
   "source": [
    "models_to_run = {\n",
    "    'model1': False,\n",
    "    'model2': False,\n",
    "    'model3': False,\n",
    "    'model4': False,\n",
    "    'model5': False,\n",
    "    'model6': False,\n",
    "    'model7': False,\n",
    "    'model8': True,\n",
    "    'model9': True,\n",
    "    'model10': True,\n",
    "}"
   ]
  },
  {
   "cell_type": "markdown",
   "id": "20f6f025-e9d6-44d4-91dd-719fd35a5599",
   "metadata": {},
   "source": [
    "## Model 1"
   ]
  },
  {
   "cell_type": "code",
   "execution_count": 7,
   "id": "f71fec2b-ec70-4657-b292-ab6927e4917d",
   "metadata": {},
   "outputs": [],
   "source": [
    "if models_to_run['model1']:\n",
    "    preprocessor = ColumnTransformer(\n",
    "        transformers=[\n",
    "            ('text', TfidfVectorizer(), 'Text'),\n",
    "        ]\n",
    "    )\n",
    "    \n",
    "    pipeline = Pipeline(\n",
    "        steps=[\n",
    "            ('preprocessor', preprocessor),\n",
    "            ('regressor', LogisticRegression(random_state=1)),\n",
    "        ]\n",
    "    )\n",
    "    \n",
    "    evaluate_and_save_results(pipeline, 1)"
   ]
  },
  {
   "cell_type": "markdown",
   "id": "2d26318e-fe4b-43e0-9f33-dc9197bf76e0",
   "metadata": {},
   "source": [
    "## Model 2"
   ]
  },
  {
   "cell_type": "code",
   "execution_count": 8,
   "id": "a203be85-c41f-4b25-ab5e-0db3d651ce80",
   "metadata": {},
   "outputs": [],
   "source": [
    "if models_to_run['model2']:\n",
    "    preprocessor = ColumnTransformer(\n",
    "        transformers=[\n",
    "            ('text', TfidfVectorizer(stop_words='english'), 'Text'),\n",
    "            ('numeric', StandardScaler(), ['User_Age', 'Time_of_Post', 'Population_Density']),\n",
    "        ]\n",
    "    )\n",
    "    \n",
    "    pipeline = Pipeline(\n",
    "        steps=[\n",
    "            ('preprocessor', preprocessor),\n",
    "            ('regressor', RandomForestClassifier(n_estimators=200, random_state=1)),\n",
    "        ]\n",
    "    )\n",
    "    \n",
    "    evaluate_and_save_results(pipeline, 2)"
   ]
  },
  {
   "cell_type": "markdown",
   "id": "7eb67b0d-8426-4782-a33d-8e3fd53ba086",
   "metadata": {},
   "source": [
    "## Model 3"
   ]
  },
  {
   "cell_type": "code",
   "execution_count": 9,
   "id": "bb3ac346-f71f-42a5-a04f-baf5558c84ce",
   "metadata": {},
   "outputs": [],
   "source": [
    "if models_to_run['model3']:\n",
    "    preprocessor = ColumnTransformer(\n",
    "        transformers=[\n",
    "            ('text', CountVectorizer(stop_words='english'), 'Text'),\n",
    "            ('numeric', StandardScaler(), ['User_Age', 'Time_of_Post', 'Population_Density']),\n",
    "        ]\n",
    "    )\n",
    "    \n",
    "    pipeline = Pipeline(\n",
    "        steps=[\n",
    "            ('preprocessor', preprocessor),\n",
    "            ('regressor', RandomForestClassifier(n_estimators=200, random_state=1))\n",
    "        ]\n",
    "    )\n",
    "    \n",
    "    evaluate_and_save_results(pipeline, 3)"
   ]
  },
  {
   "cell_type": "markdown",
   "id": "c956ec00-a5ad-4c84-a46d-fce808dc1f12",
   "metadata": {},
   "source": [
    "## Model 4"
   ]
  },
  {
   "cell_type": "code",
   "execution_count": 10,
   "id": "2690bd90-a9a6-488b-8f4f-9d2d1d27662f",
   "metadata": {},
   "outputs": [],
   "source": [
    "if models_to_run['model4']:\n",
    "    preprocessor = ColumnTransformer(\n",
    "        transformers=[\n",
    "            ('text', CountVectorizer(stop_words='english'), 'Text'),\n",
    "            ('numeric', MinMaxScaler(), ['User_Age', 'Time_of_Post', 'Population_Density']),\n",
    "        ]\n",
    "    )\n",
    "    \n",
    "    pipeline = Pipeline(\n",
    "        steps=[\n",
    "            ('preprocessor', preprocessor),\n",
    "            ('regressor', MultinomialNB()),\n",
    "        ]\n",
    "    )\n",
    "    \n",
    "    evaluate_and_save_results(pipeline, 4)"
   ]
  },
  {
   "cell_type": "markdown",
   "id": "16dd400e-8e0f-4924-bf52-c435f9d3a334",
   "metadata": {},
   "source": [
    "## Model 5"
   ]
  },
  {
   "cell_type": "code",
   "execution_count": 11,
   "id": "366b87e8-9c6c-4937-a5c8-20e615d1f503",
   "metadata": {},
   "outputs": [],
   "source": [
    "if models_to_run['model5']:\n",
    "    preprocessor = ColumnTransformer(\n",
    "        transformers=[\n",
    "            ('text', CountVectorizer(stop_words='english'), 'Text'),\n",
    "            ('numeric', StandardScaler(), ['User_Age', 'Time_of_Post', 'Population_Density']),\n",
    "        ]\n",
    "    )\n",
    "    \n",
    "    pipeline = Pipeline(\n",
    "        steps=[\n",
    "            ('preprocessor', preprocessor),\n",
    "            ('regressor', SVC(kernel='poly')),\n",
    "        ]\n",
    "    )\n",
    "    \n",
    "    evaluate_and_save_results(pipeline, 5)"
   ]
  },
  {
   "cell_type": "markdown",
   "id": "08e11bfd-094c-48eb-906f-a21502028c36",
   "metadata": {},
   "source": [
    "## Model 6"
   ]
  },
  {
   "cell_type": "code",
   "execution_count": 12,
   "id": "2341d11b-4b3a-4982-abba-e62bfe4a040b",
   "metadata": {},
   "outputs": [],
   "source": [
    "if models_to_run['model6']:        \n",
    "    text_vectorizer = CountVectorizer(\n",
    "        stop_words='english',\n",
    "        # ngram_range=(1, 2)\n",
    "    )\n",
    "    \n",
    "    preprocessor = ColumnTransformer(\n",
    "        transformers=[\n",
    "            ('text', text_vectorizer, 'Text'),\n",
    "            ('numeric', StandardScaler(), ['User_Age', 'Time_of_Post', 'Population_Density']),\n",
    "            ('yelling', YellingBinaryFeatureExtractor(), 'Text'),\n",
    "        ]\n",
    "    )\n",
    "    \n",
    "    pipeline = Pipeline(\n",
    "        steps=[\n",
    "            ('preprocessor', preprocessor),\n",
    "            ('regressor', RandomForestClassifier(n_estimators=200, random_state=1)),\n",
    "        ]\n",
    "    )\n",
    "    \n",
    "    evaluate_and_save_results(pipeline, 6)"
   ]
  },
  {
   "cell_type": "markdown",
   "id": "18ab6e8e-eb7d-4f7b-bf78-ee5b2a350693",
   "metadata": {},
   "source": [
    "## Model 7"
   ]
  },
  {
   "cell_type": "code",
   "execution_count": 13,
   "id": "6e94c9d4-bc0b-4145-bb23-c10bade5ef54",
   "metadata": {},
   "outputs": [],
   "source": [
    "if models_to_run['model7']:\n",
    "        \n",
    "    text_vectorizer = CountVectorizer(\n",
    "        stop_words='english',\n",
    "    )\n",
    "    \n",
    "    preprocessor = ColumnTransformer(\n",
    "        transformers=[\n",
    "            ('text', text_vectorizer, 'Text'),\n",
    "            ('capitalization', CapsCountFeatureExtractor(), 'Text'),\n",
    "            ('exclamation', ExclamationCountFeatureExtractor(), 'Text'),\n",
    "            ('swearing', SwearingFeatureExtractor(), 'Text'),\n",
    "            ('numeric', StandardScaler(), ['User_Age', 'Time_of_Post', 'Population_Density']),\n",
    "        ]\n",
    "    )\n",
    "    \n",
    "    pipeline = Pipeline(\n",
    "        steps=[\n",
    "            ('preprocessor', preprocessor),\n",
    "            ('regressor', LogisticRegression(random_state=1, max_iter=1000)),\n",
    "        ]\n",
    "    )\n",
    "    \n",
    "    evaluate_and_save_results(pipeline, 7)"
   ]
  },
  {
   "cell_type": "code",
   "execution_count": 15,
   "id": "cc77b1bf-8d1b-4351-b984-8d81aee2dcf8",
   "metadata": {},
   "outputs": [
    {
     "name": "stdout",
     "output_type": "stream",
     "text": [
      "              precision    recall  f1-score   support\n",
      "\n",
      "           0       0.89      0.90      0.89      3272\n",
      "           1       0.77      0.74      0.75      1465\n",
      "\n",
      "    accuracy                           0.85      4737\n",
      "   macro avg       0.83      0.82      0.82      4737\n",
      "weighted avg       0.85      0.85      0.85      4737\n",
      "\n"
     ]
    }
   ],
   "source": [
    "if models_to_run['model8']:\n",
    "    text_vectorizer = CountVectorizer(\n",
    "        stop_words='english',\n",
    "        # ngram_range=(1, 2)\n",
    "    )\n",
    "    \n",
    "    preprocessor = ColumnTransformer(\n",
    "        transformers=[\n",
    "            ('text', text_vectorizer, 'Text'),\n",
    "            ('numeric', StandardScaler(), ['User_Age', 'Time_of_Post', 'Population_Density']),\n",
    "            ('capitalization', CapsCountFeatureExtractor(), 'Text'),\n",
    "        ]\n",
    "    )\n",
    "    \n",
    "    pipeline = Pipeline(\n",
    "        steps=[\n",
    "            ('preprocessor', preprocessor),\n",
    "            ('regressor', RandomForestClassifier(n_estimators=200, random_state=1)),\n",
    "        ]\n",
    "    )\n",
    "    \n",
    "    evaluate_and_save_results(pipeline, 8)"
   ]
  },
  {
   "cell_type": "code",
   "execution_count": null,
   "id": "4e64f90b-c3b8-42b9-99fd-e9dfd873dcfa",
   "metadata": {},
   "outputs": [],
   "source": [
    "if models_to_run['model9']:\n",
    "    text_vectorizer = CountVectorizer(\n",
    "        stop_words='english',\n",
    "        # ngram_range=(1, 2)\n",
    "    )\n",
    "    \n",
    "    preprocessor = ColumnTransformer(\n",
    "        transformers=[\n",
    "            ('text', text_vectorizer, 'Text'),\n",
    "            ('numeric', StandardScaler(), ['User_Age', 'Time_of_Post', 'Population_Density']),\n",
    "            ('capitalization', CapsCountFeatureExtractor(), 'Text'),\n",
    "        ]\n",
    "    )\n",
    "    \n",
    "    pipeline = Pipeline(\n",
    "        steps=[\n",
    "            ('preprocessor', preprocessor),\n",
    "            ('regressor', RandomForestClassifier(n_estimators=200, random_state=1)),\n",
    "        ]\n",
    "    )\n",
    "    \n",
    "    evaluate_and_save_results(pipeline, 9)"
   ]
  }
 ],
 "metadata": {
  "kernelspec": {
   "display_name": "Python 3 (ipykernel)",
   "language": "python",
   "name": "python3"
  },
  "language_info": {
   "codemirror_mode": {
    "name": "ipython",
    "version": 3
   },
   "file_extension": ".py",
   "mimetype": "text/x-python",
   "name": "python",
   "nbconvert_exporter": "python",
   "pygments_lexer": "ipython3",
   "version": "3.11.10"
  }
 },
 "nbformat": 4,
 "nbformat_minor": 5
}
