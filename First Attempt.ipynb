{
 "cells": [
  {
   "cell_type": "code",
   "execution_count": 7,
   "id": "d983657a-6616-4671-80b4-e8dd95c3050e",
   "metadata": {},
   "outputs": [],
   "source": [
    "import pandas as pd\n",
    "from sklearn.model_selection import train_test_split\n",
    "from sklearn.feature_extraction.text import TfidfVectorizer\n",
    "from sklearn.linear_model import LogisticRegression\n",
    "from sklearn.metrics import classification_report"
   ]
  },
  {
   "cell_type": "code",
   "execution_count": 8,
   "id": "c9eb5734-06a1-44c4-b71c-ccb525e95205",
   "metadata": {},
   "outputs": [],
   "source": [
    "def read_csv(filename: str) -> pd.DataFrame:\n",
    "    return pd.read_csv(filename, sep=',', encoding='latin-1')\n",
    "\n",
    "train_filename = 'data/ds4420_kaggle_train_data.csv'\n",
    "test_filename = 'data/ds4420_kaggle_test_data.csv'\n",
    "\n",
    "train_data = read_csv(train_filename)\n",
    "test_data = read_csv(test_filename)"
   ]
  },
  {
   "cell_type": "code",
   "execution_count": 9,
   "id": "83fac3d1-6914-4b1c-b916-5fbad0767da0",
   "metadata": {},
   "outputs": [],
   "source": [
    "X_train, X_val, y_train, y_val = train_test_split(train_data['Text'], train_data['Label'], test_size=0.2, random_state=42)"
   ]
  },
  {
   "cell_type": "code",
   "execution_count": 10,
   "id": "f71fec2b-ec70-4657-b292-ab6927e4917d",
   "metadata": {},
   "outputs": [],
   "source": [
    "vectorizer = TfidfVectorizer()\n",
    "X_train_vec = vectorizer.fit_transform(X_train)\n",
    "X_val_vec = vectorizer.transform(X_val)\n",
    "\n"
   ]
  },
  {
   "cell_type": "code",
   "execution_count": 20,
   "id": "8b843593-7dd4-4595-95dd-4ef571ab954c",
   "metadata": {},
   "outputs": [
    {
     "name": "stdout",
     "output_type": "stream",
     "text": [
      "              precision    recall  f1-score   support\n",
      "\n",
      "           0       0.84      0.95      0.89      3261\n",
      "           1       0.85      0.60      0.70      1476\n",
      "\n",
      "    accuracy                           0.84      4737\n",
      "   macro avg       0.84      0.77      0.80      4737\n",
      "weighted avg       0.84      0.84      0.83      4737\n",
      "\n"
     ]
    }
   ],
   "source": [
    "model = LogisticRegression(random_state=1).fit(X_train_vec, y_train)\n",
    "y_train_pred = model.predict(X_train_vec)\n",
    "y_val_pred = model.predict(X_val_vec)\n",
    "\n",
    "print(classification_report(y_val, y_val_pred))"
   ]
  },
  {
   "cell_type": "code",
   "execution_count": 21,
   "id": "69b6f75c-53c0-4a6d-a9ff-bcbef02d64b5",
   "metadata": {},
   "outputs": [],
   "source": [
    "X_test = test_data['Text']\n",
    "X_test_vec = vectorizer.transform(X_test)\n",
    "y_pred = model.predict(X_test_vec)\n",
    "test_data['Label'] = y_pred\n",
    "test_data = test_data[['ID', 'Label']]\n",
    "test_data.to_csv('submission.csv', index=False)"
   ]
  },
  {
   "cell_type": "code",
   "execution_count": null,
   "id": "e4df70c1-7e3d-4241-a70c-31896ece7009",
   "metadata": {},
   "outputs": [],
   "source": []
  }
 ],
 "metadata": {
  "kernelspec": {
   "display_name": "Python 3 (ipykernel)",
   "language": "python",
   "name": "python3"
  },
  "language_info": {
   "codemirror_mode": {
    "name": "ipython",
    "version": 3
   },
   "file_extension": ".py",
   "mimetype": "text/x-python",
   "name": "python",
   "nbconvert_exporter": "python",
   "pygments_lexer": "ipython3",
   "version": "3.11.10"
  }
 },
 "nbformat": 4,
 "nbformat_minor": 5
}
